{
 "cells": [
  {
   "cell_type": "code",
   "execution_count": 1,
   "metadata": {},
   "outputs": [],
   "source": [
    "import chromadb\n",
    "from chromadb.utils import embedding_functions\n",
    "from tqdm import tqdm\n",
    "import pandas as pds\n",
    "from IPython.display import clear_output\n",
    "import os\n",
    "\n",
    "import pandas as pd\n",
    "import tensorflow as tf\n",
    "import time\n",
    "from SonarEmbeddingFunction import SonarEmbeddingFunction\n"
   ]
  },
  {
   "cell_type": "code",
   "execution_count": 2,
   "metadata": {},
   "outputs": [],
   "source": [
    "from chromadb import Documents, EmbeddingFunction, Embeddings\n",
    "from sonar.inference_pipelines.text import TextToEmbeddingModelPipeline\n"
   ]
  },
  {
   "cell_type": "code",
   "execution_count": 3,
   "metadata": {},
   "outputs": [
    {
     "data": {
      "text/plain": [
       "[PhysicalDevice(name='/physical_device:GPU:0', device_type='GPU')]"
      ]
     },
     "execution_count": 3,
     "metadata": {},
     "output_type": "execute_result"
    }
   ],
   "source": [
    "tf.config.list_physical_devices('GPU')"
   ]
  },
  {
   "cell_type": "code",
   "execution_count": 4,
   "metadata": {},
   "outputs": [
    {
     "data": {
      "text/plain": [
       "device(type='mps')"
      ]
     },
     "execution_count": 4,
     "metadata": {},
     "output_type": "execute_result"
    }
   ],
   "source": [
    "import torch\n",
    "device = torch.device(\"mps\")\n",
    "device"
   ]
  },
  {
   "cell_type": "code",
   "execution_count": 5,
   "metadata": {},
   "outputs": [],
   "source": [
    "t2vec_model = TextToEmbeddingModelPipeline(encoder=\"text_sonar_basic_encoder\",\n",
    "                                           tokenizer=\"text_sonar_basic_encoder\", device=device)"
   ]
  },
  {
   "cell_type": "code",
   "execution_count": 6,
   "metadata": {},
   "outputs": [],
   "source": [
    "embedding_func = SonarEmbeddingFunction()"
   ]
  },
  {
   "cell_type": "code",
   "execution_count": 9,
   "metadata": {},
   "outputs": [
    {
     "data": {
      "text/plain": [
       "[array([ 0.01450937, -0.00103681, -0.01157396, ..., -0.01648925,\n",
       "         0.00374215, -0.00468865])]"
      ]
     },
     "execution_count": 9,
     "metadata": {},
     "output_type": "execute_result"
    }
   ],
   "source": [
    "embedding_func(['test'])"
   ]
  },
  {
   "cell_type": "code",
   "execution_count": 10,
   "metadata": {},
   "outputs": [],
   "source": [
    "df = pd.read_csv(\"hashtag_donaldtrump.csv\", lineterminator='\\n')"
   ]
  },
  {
   "cell_type": "code",
   "execution_count": 11,
   "metadata": {},
   "outputs": [
    {
     "name": "stdout",
     "output_type": "stream",
     "text": [
      "<class 'pandas.core.frame.DataFrame'>\n",
      "RangeIndex: 970919 entries, 0 to 970918\n",
      "Data columns (total 21 columns):\n",
      " #   Column                Non-Null Count   Dtype  \n",
      "---  ------                --------------   -----  \n",
      " 0   created_at            970919 non-null  object \n",
      " 1   tweet_id              970919 non-null  float64\n",
      " 2   tweet                 970919 non-null  object \n",
      " 3   likes                 970919 non-null  float64\n",
      " 4   retweet_count         970919 non-null  float64\n",
      " 5   source                970043 non-null  object \n",
      " 6   user_id               970919 non-null  float64\n",
      " 7   user_name             970897 non-null  object \n",
      " 8   user_screen_name      970919 non-null  object \n",
      " 9   user_description      869651 non-null  object \n",
      " 10  user_join_date        970919 non-null  object \n",
      " 11  user_followers_count  970919 non-null  float64\n",
      " 12  user_location         675957 non-null  object \n",
      " 13  lat                   445719 non-null  float64\n",
      " 14  long                  445719 non-null  float64\n",
      " 15  city                  227187 non-null  object \n",
      " 16  country               442748 non-null  object \n",
      " 17  continent             442765 non-null  object \n",
      " 18  state                 320620 non-null  object \n",
      " 19  state_code            300425 non-null  object \n",
      " 20  collected_at          970919 non-null  object \n",
      "dtypes: float64(7), object(14)\n",
      "memory usage: 155.6+ MB\n"
     ]
    }
   ],
   "source": [
    "df.info()"
   ]
  },
  {
   "cell_type": "code",
   "execution_count": 12,
   "metadata": {},
   "outputs": [
    {
     "data": {
      "text/html": [
       "<div>\n",
       "<style scoped>\n",
       "    .dataframe tbody tr th:only-of-type {\n",
       "        vertical-align: middle;\n",
       "    }\n",
       "\n",
       "    .dataframe tbody tr th {\n",
       "        vertical-align: top;\n",
       "    }\n",
       "\n",
       "    .dataframe thead th {\n",
       "        text-align: right;\n",
       "    }\n",
       "</style>\n",
       "<table border=\"1\" class=\"dataframe\">\n",
       "  <thead>\n",
       "    <tr style=\"text-align: right;\">\n",
       "      <th></th>\n",
       "      <th>created_at</th>\n",
       "      <th>tweet_id</th>\n",
       "      <th>tweet</th>\n",
       "      <th>likes</th>\n",
       "      <th>retweet_count</th>\n",
       "      <th>source</th>\n",
       "      <th>user_id</th>\n",
       "      <th>user_name</th>\n",
       "      <th>user_screen_name</th>\n",
       "      <th>user_description</th>\n",
       "      <th>...</th>\n",
       "      <th>user_followers_count</th>\n",
       "      <th>user_location</th>\n",
       "      <th>lat</th>\n",
       "      <th>long</th>\n",
       "      <th>city</th>\n",
       "      <th>country</th>\n",
       "      <th>continent</th>\n",
       "      <th>state</th>\n",
       "      <th>state_code</th>\n",
       "      <th>collected_at</th>\n",
       "    </tr>\n",
       "  </thead>\n",
       "  <tbody>\n",
       "    <tr>\n",
       "      <th>0</th>\n",
       "      <td>2020-10-15 00:00:01</td>\n",
       "      <td>1.316529e+18</td>\n",
       "      <td>#Elecciones2020 | En #Florida: #JoeBiden dice ...</td>\n",
       "      <td>0.0</td>\n",
       "      <td>0.0</td>\n",
       "      <td>TweetDeck</td>\n",
       "      <td>3.606665e+08</td>\n",
       "      <td>El Sol Latino News</td>\n",
       "      <td>elsollatinonews</td>\n",
       "      <td>🌐 Noticias de interés para latinos de la costa...</td>\n",
       "      <td>...</td>\n",
       "      <td>1860.0</td>\n",
       "      <td>Philadelphia, PA / Miami, FL</td>\n",
       "      <td>25.774270</td>\n",
       "      <td>-80.193660</td>\n",
       "      <td>NaN</td>\n",
       "      <td>United States of America</td>\n",
       "      <td>North America</td>\n",
       "      <td>Florida</td>\n",
       "      <td>FL</td>\n",
       "      <td>2020-10-21 00:00:00</td>\n",
       "    </tr>\n",
       "    <tr>\n",
       "      <th>1</th>\n",
       "      <td>2020-10-15 00:00:01</td>\n",
       "      <td>1.316529e+18</td>\n",
       "      <td>Usa 2020, Trump contro Facebook e Twitter: cop...</td>\n",
       "      <td>26.0</td>\n",
       "      <td>9.0</td>\n",
       "      <td>Social Mediaset</td>\n",
       "      <td>3.316176e+08</td>\n",
       "      <td>Tgcom24</td>\n",
       "      <td>MediasetTgcom24</td>\n",
       "      <td>Profilo ufficiale di Tgcom24: tutte le notizie...</td>\n",
       "      <td>...</td>\n",
       "      <td>1067661.0</td>\n",
       "      <td>NaN</td>\n",
       "      <td>NaN</td>\n",
       "      <td>NaN</td>\n",
       "      <td>NaN</td>\n",
       "      <td>NaN</td>\n",
       "      <td>NaN</td>\n",
       "      <td>NaN</td>\n",
       "      <td>NaN</td>\n",
       "      <td>2020-10-21 00:00:00.373216530</td>\n",
       "    </tr>\n",
       "    <tr>\n",
       "      <th>2</th>\n",
       "      <td>2020-10-15 00:00:02</td>\n",
       "      <td>1.316529e+18</td>\n",
       "      <td>#Trump: As a student I used to hear for years,...</td>\n",
       "      <td>2.0</td>\n",
       "      <td>1.0</td>\n",
       "      <td>Twitter Web App</td>\n",
       "      <td>8.436472e+06</td>\n",
       "      <td>snarke</td>\n",
       "      <td>snarke</td>\n",
       "      <td>Will mock for food! Freelance writer, blogger,...</td>\n",
       "      <td>...</td>\n",
       "      <td>1185.0</td>\n",
       "      <td>Portland</td>\n",
       "      <td>45.520247</td>\n",
       "      <td>-122.674195</td>\n",
       "      <td>Portland</td>\n",
       "      <td>United States of America</td>\n",
       "      <td>North America</td>\n",
       "      <td>Oregon</td>\n",
       "      <td>OR</td>\n",
       "      <td>2020-10-21 00:00:00.746433060</td>\n",
       "    </tr>\n",
       "    <tr>\n",
       "      <th>3</th>\n",
       "      <td>2020-10-15 00:00:02</td>\n",
       "      <td>1.316529e+18</td>\n",
       "      <td>2 hours since last tweet from #Trump! Maybe he...</td>\n",
       "      <td>0.0</td>\n",
       "      <td>0.0</td>\n",
       "      <td>Trumpytweeter</td>\n",
       "      <td>8.283556e+17</td>\n",
       "      <td>Trumpytweeter</td>\n",
       "      <td>trumpytweeter</td>\n",
       "      <td>If he doesn't tweet for some time, should we b...</td>\n",
       "      <td>...</td>\n",
       "      <td>32.0</td>\n",
       "      <td>NaN</td>\n",
       "      <td>NaN</td>\n",
       "      <td>NaN</td>\n",
       "      <td>NaN</td>\n",
       "      <td>NaN</td>\n",
       "      <td>NaN</td>\n",
       "      <td>NaN</td>\n",
       "      <td>NaN</td>\n",
       "      <td>2020-10-21 00:00:01.119649591</td>\n",
       "    </tr>\n",
       "    <tr>\n",
       "      <th>4</th>\n",
       "      <td>2020-10-15 00:00:08</td>\n",
       "      <td>1.316529e+18</td>\n",
       "      <td>You get a tie! And you get a tie! #Trump ‘s ra...</td>\n",
       "      <td>4.0</td>\n",
       "      <td>3.0</td>\n",
       "      <td>Twitter for iPhone</td>\n",
       "      <td>4.741380e+07</td>\n",
       "      <td>Rana Abtar - رنا أبتر</td>\n",
       "      <td>Ranaabtar</td>\n",
       "      <td>Washington Correspondent, Lebanese-American ,c...</td>\n",
       "      <td>...</td>\n",
       "      <td>5393.0</td>\n",
       "      <td>Washington DC</td>\n",
       "      <td>38.894992</td>\n",
       "      <td>-77.036558</td>\n",
       "      <td>Washington</td>\n",
       "      <td>United States of America</td>\n",
       "      <td>North America</td>\n",
       "      <td>District of Columbia</td>\n",
       "      <td>DC</td>\n",
       "      <td>2020-10-21 00:00:01.492866121</td>\n",
       "    </tr>\n",
       "  </tbody>\n",
       "</table>\n",
       "<p>5 rows × 21 columns</p>\n",
       "</div>"
      ],
      "text/plain": [
       "            created_at      tweet_id  \\\n",
       "0  2020-10-15 00:00:01  1.316529e+18   \n",
       "1  2020-10-15 00:00:01  1.316529e+18   \n",
       "2  2020-10-15 00:00:02  1.316529e+18   \n",
       "3  2020-10-15 00:00:02  1.316529e+18   \n",
       "4  2020-10-15 00:00:08  1.316529e+18   \n",
       "\n",
       "                                               tweet  likes  retweet_count  \\\n",
       "0  #Elecciones2020 | En #Florida: #JoeBiden dice ...    0.0            0.0   \n",
       "1  Usa 2020, Trump contro Facebook e Twitter: cop...   26.0            9.0   \n",
       "2  #Trump: As a student I used to hear for years,...    2.0            1.0   \n",
       "3  2 hours since last tweet from #Trump! Maybe he...    0.0            0.0   \n",
       "4  You get a tie! And you get a tie! #Trump ‘s ra...    4.0            3.0   \n",
       "\n",
       "               source       user_id              user_name user_screen_name  \\\n",
       "0           TweetDeck  3.606665e+08     El Sol Latino News  elsollatinonews   \n",
       "1    Social Mediaset   3.316176e+08                Tgcom24  MediasetTgcom24   \n",
       "2     Twitter Web App  8.436472e+06                 snarke           snarke   \n",
       "3       Trumpytweeter  8.283556e+17          Trumpytweeter    trumpytweeter   \n",
       "4  Twitter for iPhone  4.741380e+07  Rana Abtar - رنا أبتر        Ranaabtar   \n",
       "\n",
       "                                    user_description  ...  \\\n",
       "0  🌐 Noticias de interés para latinos de la costa...  ...   \n",
       "1  Profilo ufficiale di Tgcom24: tutte le notizie...  ...   \n",
       "2  Will mock for food! Freelance writer, blogger,...  ...   \n",
       "3  If he doesn't tweet for some time, should we b...  ...   \n",
       "4  Washington Correspondent, Lebanese-American ,c...  ...   \n",
       "\n",
       "  user_followers_count                 user_location        lat        long  \\\n",
       "0               1860.0  Philadelphia, PA / Miami, FL  25.774270  -80.193660   \n",
       "1            1067661.0                           NaN        NaN         NaN   \n",
       "2               1185.0                      Portland  45.520247 -122.674195   \n",
       "3                 32.0                           NaN        NaN         NaN   \n",
       "4               5393.0                 Washington DC  38.894992  -77.036558   \n",
       "\n",
       "         city                   country      continent                 state  \\\n",
       "0         NaN  United States of America  North America               Florida   \n",
       "1         NaN                       NaN            NaN                   NaN   \n",
       "2    Portland  United States of America  North America                Oregon   \n",
       "3         NaN                       NaN            NaN                   NaN   \n",
       "4  Washington  United States of America  North America  District of Columbia   \n",
       "\n",
       "  state_code                   collected_at  \n",
       "0         FL            2020-10-21 00:00:00  \n",
       "1        NaN  2020-10-21 00:00:00.373216530  \n",
       "2         OR  2020-10-21 00:00:00.746433060  \n",
       "3        NaN  2020-10-21 00:00:01.119649591  \n",
       "4         DC  2020-10-21 00:00:01.492866121  \n",
       "\n",
       "[5 rows x 21 columns]"
      ]
     },
     "execution_count": 12,
     "metadata": {},
     "output_type": "execute_result"
    }
   ],
   "source": [
    "df.head()"
   ]
  },
  {
   "cell_type": "code",
   "execution_count": 52,
   "metadata": {},
   "outputs": [],
   "source": [
    "CHROMA_DATA_PATH = \"chroma_data/\"\n",
    "COLLECTION_NAME = \"twitter-election2020\"\n",
    "\n",
    "client = chromadb.PersistentClient(path=CHROMA_DATA_PATH)"
   ]
  },
  {
   "cell_type": "code",
   "execution_count": 108,
   "metadata": {},
   "outputs": [],
   "source": [
    "client.delete_collection(COLLECTION_NAME)"
   ]
  },
  {
   "cell_type": "code",
   "execution_count": 109,
   "metadata": {},
   "outputs": [],
   "source": [
    "collection = client.create_collection(\n",
    "    name=COLLECTION_NAME,\n",
    "    embedding_function=embedding_func\n",
    ")"
   ]
  },
  {
   "cell_type": "code",
   "execution_count": 110,
   "metadata": {},
   "outputs": [],
   "source": [
    "collection = client.get_collection(COLLECTION_NAME, embedding_function=embedding_func)"
   ]
  },
  {
   "cell_type": "code",
   "execution_count": 111,
   "metadata": {},
   "outputs": [],
   "source": [
    "select_df = pd.read_csv(\"select_df.csv\")"
   ]
  },
  {
   "cell_type": "code",
   "execution_count": 112,
   "metadata": {},
   "outputs": [],
   "source": [
    "embeddings_df = pd.read_csv(\"embeddings.csv\")"
   ]
  },
  {
   "cell_type": "code",
   "execution_count": 113,
   "metadata": {},
   "outputs": [],
   "source": [
    "embeddings_list = embeddings_df.values.tolist()"
   ]
  },
  {
   "cell_type": "code",
   "execution_count": null,
   "metadata": {},
   "outputs": [],
   "source": []
  },
  {
   "cell_type": "code",
   "execution_count": 114,
   "metadata": {},
   "outputs": [
    {
     "name": "stderr",
     "output_type": "stream",
     "text": [
      "Adding documents:   0%|          | 0/1000 [00:00<?, ?it/s]"
     ]
    },
    {
     "name": "stderr",
     "output_type": "stream",
     "text": [
      "Adding documents: 100%|██████████| 1000/1000 [00:02<00:00, 395.65it/s]\n"
     ]
    }
   ],
   "source": [
    "metadata_cols = select_df.drop(columns=['cleantext']).to_dict(orient='records')\n",
    "\n",
    "for i in tqdm(range(len(select_df)), desc=\"Adding documents\"):\n",
    "    collection.add(\n",
    "        documents=[select_df[\"cleantext\"].iloc[i]],\n",
    "        embeddings=[embeddings_list[i]],\n",
    "        metadatas=[metadata_cols[i]],          \n",
    "        ids=[f\"id{i}\"]                         \n",
    "    )"
   ]
  },
  {
   "cell_type": "code",
   "execution_count": 115,
   "metadata": {},
   "outputs": [
    {
     "data": {
      "text/plain": [
       "1000"
      ]
     },
     "execution_count": 115,
     "metadata": {},
     "output_type": "execute_result"
    }
   ],
   "source": [
    "collection.count()"
   ]
  },
  {
   "cell_type": "code",
   "execution_count": 116,
   "metadata": {},
   "outputs": [
    {
     "data": {
      "text/plain": [
       "{'ids': ['id0', 'id1', 'id2', 'id3', 'id4', 'id5', 'id6', 'id7', 'id8', 'id9'],\n",
       " 'embeddings': array([[ 1.14425588e-02, -2.48416691e-05,  7.52648385e-03, ...,\n",
       "         -1.71165317e-02,  3.68376169e-03,  4.30903817e-03],\n",
       "        [ 1.24211181e-02, -5.41155925e-03,  2.16312124e-03, ...,\n",
       "         -1.96006265e-03,  3.36321624e-04,  4.05356195e-03],\n",
       "        [-3.52008035e-03, -2.23830997e-04,  6.72221696e-03, ...,\n",
       "          1.45683289e-02, -2.71658017e-03, -5.62054804e-03],\n",
       "        ...,\n",
       "        [ 7.61500094e-03,  1.34095168e-02,  1.43038610e-03, ...,\n",
       "         -9.82502941e-03,  3.22438055e-03, -1.09395180e-02],\n",
       "        [-7.24022510e-03, -6.12279633e-03,  1.01705194e-02, ...,\n",
       "          5.54076349e-03, -1.83556913e-04,  3.76053154e-03],\n",
       "        [ 1.39138929e-03,  8.84038454e-04, -1.72369927e-03, ...,\n",
       "          6.36337930e-03, -1.29510248e-02, -8.25977046e-03]]),\n",
       " 'documents': ['is she one of those over kids who can not be reunited with parents who do care thanks to the trump gop government',\n",
       "  'wenn man nur die rechtm igen stimmen z hlt habe ich klar gewonnen x macht widedewitt und macht e trump',\n",
       "  'been timing each response in debate and the amount of interruptions by the moderator during president trump s responses are ridiculous she never interrupts biden',\n",
       "  'joe biden is the first democrat in years to win arizona electionday election electionnight uselections elections elections electionday electionday election uselection donaldtrump joebiden',\n",
       "  'fact in the senate biden voted for the north american free trade agreement and permanent normal trade relations with china as then president barack obama s no he supported the trans pacific partnership chinajoemustgo joebiden trump',\n",
       "  'worldflood b malmet trump did not introduce that problem nor so far has biden much less harris suggested fixing the problem justsaying and yes vote bidenharris but with your eyes open',\n",
       "  'trump wird nicht gewinnen dann ist es halt so die erde dreht sich weiter und unsere problemzonen liegen eh nicht in den usa',\n",
       "  'i m looking for the gangtok ticket do you have it with you googlepaygoindiagame googlepaygoindia googlepayindia googlepay googlepaytickets googlepaygoindiagame joebiden goindiagame',\n",
       "  'ahora si chao trump merecido que pierda inmerecido el margen tan estrecho elecciones',\n",
       "  'columbiabugle vote trump and bring your family with you every vote counts'],\n",
       " 'uris': None,\n",
       " 'data': None,\n",
       " 'metadatas': [{'city': 'Brussels',\n",
       "   'collected_at': '2020-10-27 17:42:41.780810',\n",
       "   'continent': 'Europe',\n",
       "   'country': 'Belgium',\n",
       "   'created_at': '2020-10-24 19:02:28',\n",
       "   'lat': 50.8465573,\n",
       "   'likes': 5.0,\n",
       "   'long': 4.351697,\n",
       "   'retweet_count': 1.0,\n",
       "   'side': 'Trump',\n",
       "   'source': 'Twitter Web App',\n",
       "   'state': 'Brussels-Capital',\n",
       "   'state_code': 'BRU',\n",
       "   'tweet': 'Is she one of those over 500 kids who can not be reunited with parents who do care, thanks to the #Trump #GOP government? https://t.co/3kf5zeQtZk',\n",
       "   'tweet_id': 1.320078222747439e+18,\n",
       "   'user_description': \"International journalist & writer who's still wondering: does one remove gloves when dealing with Dumb Dudes? As one prefers not to sully one's hands.\",\n",
       "   'user_followers_count': 145.0,\n",
       "   'user_id': 1.2242710286937416e+18,\n",
       "   'user_join_date': '2020-02-03 09:59:13',\n",
       "   'user_location': 'Brussels',\n",
       "   'user_name': 'Car deB 🇪🇺 😷',\n",
       "   'user_screen_name': 'CdeBur_Europe'},\n",
       "  {'collected_at': '2020-11-07 11:30:45.384752',\n",
       "   'created_at': '2020-11-06 11:02:35',\n",
       "   'likes': 0.0,\n",
       "   'retweet_count': 0.0,\n",
       "   'side': 'Trump',\n",
       "   'source': 'Twitter Web App',\n",
       "   'tweet': \"'wenn man nur die rechtmäßigen stimmen zählt, habe ich klar gewonnen' \\n\\n3 x 3 macht 4 widedewitt und 3 macht 9e \\n\\n#trump\",\n",
       "   'tweet_id': 1.3246684969245983e+18,\n",
       "   'user_description': 'Idealist, Singer, Poet, Writer, Cosplayer🍓🔥\\n闇空',\n",
       "   'user_followers_count': 192.0,\n",
       "   'user_id': 67892185.0,\n",
       "   'user_join_date': '2009-08-22 13:50:31',\n",
       "   'user_name': 'やみくう♔🏳️\\u200d🌈',\n",
       "   'user_screen_name': 'Yamiku'},\n",
       "  {'collected_at': '2020-10-27 18:26:33.609087',\n",
       "   'created_at': '2020-10-23 02:03:21',\n",
       "   'likes': 1.0,\n",
       "   'retweet_count': 1.0,\n",
       "   'side': 'Biden',\n",
       "   'source': 'Twitter for iPad',\n",
       "   'tweet': 'Been timing each response in debate and the amount of interruptions by the moderator during President Trump’s responses are ridiculous! She never interrupts #Biden.',\n",
       "   'tweet_id': 1.3194593659260764e+18,\n",
       "   'user_description': 'Author, editor, non-Profit Coordinator, Wife, Mom of 8, Nana of 11, Master of none. Please DO NOT Message me on Twitter.',\n",
       "   'user_followers_count': 759.0,\n",
       "   'user_id': 2711780581.0,\n",
       "   'user_join_date': '2014-08-06 11:11:36',\n",
       "   'user_location': 'Upstate NY',\n",
       "   'user_name': 'Carla Coon',\n",
       "   'user_screen_name': 'CarlaCoonAuthor'},\n",
       "  {'collected_at': '2020-11-05 11:51:46.154774',\n",
       "   'created_at': '2020-11-04 12:14:21',\n",
       "   'likes': 3.0,\n",
       "   'retweet_count': 0.0,\n",
       "   'side': 'Trump',\n",
       "   'source': 'Twitter for iPhone',\n",
       "   'tweet': 'Joe Biden is the first Democrat in 24 years to win Arizona. 🇺🇸 \\n\\n#ElectionDay\\xa0\\xa0\\xa0\\xa0\\xa0\\xa0 #Election2020\\xa0\\xa0\\xa0\\xa0\\xa0\\xa0\\n#ElectionNight\\xa0\\xa0\\xa0\\xa0\\xa0\\xa0 #USElections2020 \\n#elections\\xa0\\xa0\\xa0\\xa0\\xa0\\xa0\\n#Elections2020\\xa0\\xa0\\xa0\\xa0\\xa0\\n#ElectionDay2020 #ElectionDay2020 #Election2020\\xa0\\xa0\\xa0\\xa0\\n#USElection\\n#DonaldTrump\\n#JoeBiden',\n",
       "   'tweet_id': 1.323961783200084e+18,\n",
       "   'user_description': 'I spent a lot of time on this bio.',\n",
       "   'user_followers_count': 1209.0,\n",
       "   'user_id': 3729102134.0,\n",
       "   'user_join_date': '2015-09-29 19:51:11',\n",
       "   'user_name': 'SΛPTΛRSHI SINHΛ \\uf8ff',\n",
       "   'user_screen_name': 'ssinhaofficial'},\n",
       "  {'collected_at': '2020-11-01 11:10:05.320416',\n",
       "   'continent': 'North America',\n",
       "   'country': 'United States of America',\n",
       "   'created_at': '2020-10-30 23:15:10',\n",
       "   'lat': 40.0796606,\n",
       "   'likes': 0.0,\n",
       "   'long': -89.4337288,\n",
       "   'retweet_count': 0.0,\n",
       "   'side': 'Biden',\n",
       "   'source': 'Twitter for iPhone',\n",
       "   'state': 'Illinois',\n",
       "   'state_code': 'IL',\n",
       "   'tweet': \"Fact: In the Senate, #Biden voted for the North American Free Trade Agreement and permanent normal trade relations with China. As then-President Barack Obama's No. 2, he supported the Trans-Pacific Partnership. #ChinaJoeMustGo #JoeBiden #Trump2020\",\n",
       "   'tweet_id': 1.3223161429045658e+18,\n",
       "   'user_description': 'American of Mexican & English descent. Dreaming of Texas, stuck living in 😷inois. Tall Dark and Crazy.',\n",
       "   'user_followers_count': 934.0,\n",
       "   'user_id': 534890419.0,\n",
       "   'user_join_date': '2012-03-24 01:40:24',\n",
       "   'user_location': 'Illinois ',\n",
       "   'user_name': 'Liberate Illinois',\n",
       "   'user_screen_name': 'liberateIL'},\n",
       "  {'collected_at': '2020-11-03 14:34:40.341815',\n",
       "   'continent': 'North America',\n",
       "   'country': 'United States',\n",
       "   'created_at': '2020-11-02 14:24:25',\n",
       "   'lat': 39.7837304,\n",
       "   'likes': 0.0,\n",
       "   'long': -100.4458825,\n",
       "   'retweet_count': 0.0,\n",
       "   'side': 'Biden',\n",
       "   'source': 'Twitter for Android',\n",
       "   'tweet': '@worldflood1 @B52Malmet Trump did not introduce that problem nor so far has #Biden much less #Harris suggested fixing the problem.  #JustSaying and yes, vote #BidenHarris2020 but with your eyes open.',\n",
       "   'tweet_id': 1.3232697395908813e+18,\n",
       "   'user_description': 'Call us autotelic,the which condition is somewhere between optimism of the will and pessimism of the intellect. \\nIn disbelief we tweet.\\n#Bernie2020 🤝 #JC4PM',\n",
       "   'user_followers_count': 7012.0,\n",
       "   'user_id': 169949875.0,\n",
       "   'user_join_date': '2010-07-23 15:37:19',\n",
       "   'user_location': 'United States',\n",
       "   'user_name': 'BHP Animal Watch',\n",
       "   'user_screen_name': 'BHPanimalwatch'},\n",
       "  {'collected_at': '2020-11-05 11:59:49.991833',\n",
       "   'created_at': '2020-11-04 22:56:41',\n",
       "   'likes': 4.0,\n",
       "   'retweet_count': 2.0,\n",
       "   'side': 'Trump',\n",
       "   'source': 'Twitter Web App',\n",
       "   'tweet': '#Trump wird nicht gewinnen.\\n\\nDann ist es halt so.\\n\\nDie Erde dreht sich weiter und unsere Problemzonen liegen eh nicht in den USA. https://t.co/GKX8QUkGyR',\n",
       "   'tweet_id': 1.324123429398827e+18,\n",
       "   'user_followers_count': 374.0,\n",
       "   'user_id': 1.3211023763680215e+18,\n",
       "   'user_join_date': '2020-10-27 14:52:13',\n",
       "   'user_name': 'informantin',\n",
       "   'user_screen_name': 'informantin_'},\n",
       "  {'collected_at': '2020-11-09 18:28:30.228913',\n",
       "   'continent': 'Asia',\n",
       "   'country': 'India',\n",
       "   'created_at': '2020-11-08 10:00:03',\n",
       "   'lat': 17.3887859,\n",
       "   'likes': 0.0,\n",
       "   'long': 78.4610647,\n",
       "   'retweet_count': 0.0,\n",
       "   'side': 'Biden',\n",
       "   'source': 'Twitter for Android',\n",
       "   'state': 'Telangana',\n",
       "   'state_code': 'TG',\n",
       "   'tweet': \"I'm looking for the Gangtok ticket, do you have it with you? https://t.co/EHuKYpQ5H5\\n\\n#googlepaygoindiagame #googlepaygoindia #GooglePayindia #GooglePay #googlepaytickets #googlepaygoindiagame #JoeBiden #goindiagame\",\n",
       "   'tweet_id': 1.3253775362981642e+18,\n",
       "   'user_followers_count': 11.0,\n",
       "   'user_id': 9.414976090839532e+17,\n",
       "   'user_join_date': '2017-12-15 02:38:17',\n",
       "   'user_location': 'Hyderabad, India',\n",
       "   'user_name': 'Sck',\n",
       "   'user_screen_name': 'sck2410'},\n",
       "  {'collected_at': '2020-11-07 11:28:51.558871',\n",
       "   'created_at': '2020-11-06 13:59:50',\n",
       "   'likes': 0.0,\n",
       "   'retweet_count': 0.0,\n",
       "   'side': 'Trump',\n",
       "   'source': 'Twitter for Android',\n",
       "   'tweet': 'Ahora si Chao #Trump, merecido que pierda, inmerecido el margen tan estrecho\\n\\n#Elecciones2020',\n",
       "   'tweet_id': 1.3247131028233462e+18,\n",
       "   'user_description': 'Las opiniones de esta cuenta son absolutamente personales.',\n",
       "   'user_followers_count': 399.0,\n",
       "   'user_id': 170422694.0,\n",
       "   'user_join_date': '2010-07-24 20:01:02',\n",
       "   'user_location': 'Con la mamá del chavo',\n",
       "   'user_name': '\\uf8ff El hijo de Nadies!',\n",
       "   'user_screen_name': 'El_Rascaniguas'},\n",
       "  {'collected_at': '2020-11-02 17:06:59.440924',\n",
       "   'created_at': '2020-11-01 19:48:34',\n",
       "   'likes': 1.0,\n",
       "   'retweet_count': 0.0,\n",
       "   'side': 'Trump',\n",
       "   'source': 'Twitter Web App',\n",
       "   'tweet': '@ColumbiaBugle VOTE #Trump and bring your family with you. Every vote counts!',\n",
       "   'tweet_id': 1.322988926794109e+18,\n",
       "   'user_followers_count': 420.0,\n",
       "   'user_id': 1227144498.0,\n",
       "   'user_join_date': '2013-02-28 09:51:10',\n",
       "   'user_name': 'Alexct',\n",
       "   'user_screen_name': 'Alexct9'}],\n",
       " 'included': [<IncludeEnum.embeddings: 'embeddings'>,\n",
       "  <IncludeEnum.documents: 'documents'>,\n",
       "  <IncludeEnum.metadatas: 'metadatas'>]}"
      ]
     },
     "execution_count": 116,
     "metadata": {},
     "output_type": "execute_result"
    }
   ],
   "source": [
    "collection.peek(10)"
   ]
  },
  {
   "cell_type": "code",
   "execution_count": 119,
   "metadata": {},
   "outputs": [
    {
     "data": {
      "text/plain": [
       "{'ids': [['id292', 'id423', 'id851']],\n",
       " 'embeddings': None,\n",
       " 'documents': [['trump', 'trump', 'trump']],\n",
       " 'uris': None,\n",
       " 'data': None,\n",
       " 'metadatas': [[{'collected_at': '2020-11-07 11:37:23.119170',\n",
       "    'created_at': '2020-11-06 00:04:39',\n",
       "    'likes': 1.0,\n",
       "    'retweet_count': 0.0,\n",
       "    'side': 'Trump',\n",
       "    'source': 'Twitter for iPhone',\n",
       "    'tweet': '#Trump https://t.co/9oSywIVD6J',\n",
       "    'tweet_id': 1.324502924094034e+18,\n",
       "    'user_description': \"Screw your problem. I'm talking about me.\",\n",
       "    'user_followers_count': 1213.0,\n",
       "    'user_id': 127372730.0,\n",
       "    'user_join_date': '2010-03-29 00:38:58',\n",
       "    'user_location': 'Santiago de Chile ',\n",
       "    'user_name': 'Rubens',\n",
       "    'user_screen_name': 'rubensyyo'},\n",
       "   {'collected_at': '2020-11-05 12:17:05.525682',\n",
       "    'created_at': '2020-11-04 03:39:06',\n",
       "    'likes': 0.0,\n",
       "    'retweet_count': 0.0,\n",
       "    'side': 'Trump',\n",
       "    'source': 'Twitter for iPhone',\n",
       "    'tweet': 'انا يمكن لو اتحمس ادرس مثل حماسي مع ترامب كان اموري تمام #Trump',\n",
       "    'tweet_id': 1.3238321133977846e+18,\n",
       "    'user_description': '˚✧₊⁎˚✧₊⁎ #TXT_SOOBIN',\n",
       "    'user_followers_count': 49.0,\n",
       "    'user_id': 1.1692202177817846e+18,\n",
       "    'user_join_date': '2019-09-04 12:06:46',\n",
       "    'user_name': 'soi',\n",
       "    'user_screen_name': 'beomgyusa'},\n",
       "   {'city': 'Toronto',\n",
       "    'collected_at': '2020-11-08 10:46:21.752598',\n",
       "    'continent': 'North America',\n",
       "    'country': 'Canada',\n",
       "    'created_at': '2020-11-07 21:05:51',\n",
       "    'lat': 43.6534817,\n",
       "    'likes': 2.0,\n",
       "    'long': -79.38393470000001,\n",
       "    'retweet_count': 0.0,\n",
       "    'side': 'Trump',\n",
       "    'source': 'Twitter Web App',\n",
       "    'state': 'Ontario',\n",
       "    'state_code': 'ON',\n",
       "    'tweet': '#Trump https://t.co/oLMDv2b7OH',\n",
       "    'tweet_id': 1.3251827019729388e+18,\n",
       "    'user_description': 'Usual story of small town boy lured by the city lights of fame and fortune.',\n",
       "    'user_followers_count': 7892.0,\n",
       "    'user_id': 8.798864163350528e+17,\n",
       "    'user_join_date': '2017-06-28 02:17:23',\n",
       "    'user_location': 'Toronto, Ontario',\n",
       "    'user_name': 'k.g. Sambrano ● poet ● fiction writer ● op-eds',\n",
       "    'user_screen_name': 'kgsambrano'}]],\n",
       " 'distances': [[0.04786471650004387,\n",
       "   0.04786471650004387,\n",
       "   0.04786471650004387]],\n",
       " 'included': [<IncludeEnum.distances: 'distances'>,\n",
       "  <IncludeEnum.documents: 'documents'>,\n",
       "  <IncludeEnum.metadatas: 'metadatas'>]}"
      ]
     },
     "execution_count": 119,
     "metadata": {},
     "output_type": "execute_result"
    }
   ],
   "source": [
    "query_results = collection.query(\n",
    "    query_texts=[\"\"],\n",
    "    n_results=3\n",
    ")\n",
    "query_results\n"
   ]
  },
  {
   "cell_type": "code",
   "execution_count": 120,
   "metadata": {},
   "outputs": [
    {
     "data": {
      "text/plain": [
       "1024"
      ]
     },
     "execution_count": 120,
     "metadata": {},
     "output_type": "execute_result"
    }
   ],
   "source": [
    "len(collection.get(ids='id0', include=['embeddings'])['embeddings'][0])"
   ]
  },
  {
   "cell_type": "code",
   "execution_count": null,
   "metadata": {},
   "outputs": [],
   "source": []
  }
 ],
 "metadata": {
  "kernelspec": {
   "display_name": "venv",
   "language": "python",
   "name": "python3"
  },
  "language_info": {
   "codemirror_mode": {
    "name": "ipython",
    "version": 3
   },
   "file_extension": ".py",
   "mimetype": "text/x-python",
   "name": "python",
   "nbconvert_exporter": "python",
   "pygments_lexer": "ipython3",
   "version": "3.11.9"
  }
 },
 "nbformat": 4,
 "nbformat_minor": 2
}
